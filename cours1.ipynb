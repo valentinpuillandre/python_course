{
 "cells": [
  {
   "cell_type": "markdown",
   "metadata": {},
   "source": [
    "## Python"
   ]
  },
  {
   "cell_type": "markdown",
   "metadata": {},
   "source": [
    "*Dans les mathématiques élémentaires, une variable désigne une grandeur dont la valeur est (provisoirement) indéterminée, mais sur laquelle est effectuée une combinaison d'opérations avec soit des constantes, soit d'autres variables. Une variable n'est pas totalement précisée, sa valeur peut même être inconnue, mais elle doit appartenir à un ensemble. Faire des calculs avec les variables comme s'il s'agissait de nombres explicites permet de résoudre, en une seule fois, des problèmes analogues.\n",
    "La variable est habituellement représentée par un symbole, le plus souvent une lettre de l'alphabet latin telle que x ou y. Une fonction numérique y=f(x) implique deux variables, une valeur d'entrée indépendante x et une valeur de sortie y qui est le résultat d'un calcul effectué sur la variable d'entrée. Le terme variable provient du fait que lorsque l'antécédent x de la fonction varie, alors son image y varie aussi.\n",
    "Dans les mathématiques supérieures et en logique, une variable est un symbole utilisé pour marquer un rôle dans un prédicat, une formule ou un algorithme. Il peut s'agir d'une simple valeur, ou d'un objet mathématique tel qu'un vecteur, une matrice ou même une fonction. Dans un polynôme, une fraction rationnelle ou une série formelle, la variable est remplacée par une indéterminée notée X.*"
   ]
  },
  {
   "cell_type": "markdown",
   "metadata": {},
   "source": [
    "1. Réalisez un commentaire monoligne avec “My Python Code Forever”."
   ]
  },
  {
   "cell_type": "code",
   "execution_count": 65,
   "metadata": {},
   "outputs": [],
   "source": [
    "# My Python Code Forever"
   ]
  },
  {
   "cell_type": "markdown",
   "metadata": {},
   "source": [
    "2. Réalisez un commentaire multiligne avec ”My Python Code every day”."
   ]
  },
  {
   "cell_type": "code",
   "execution_count": 66,
   "metadata": {},
   "outputs": [
    {
     "data": {
      "text/plain": [
       "'\\n   My Python Code every day \\n'"
      ]
     },
     "execution_count": 66,
     "metadata": {},
     "output_type": "execute_result"
    }
   ],
   "source": [
    "\"\"\"\n",
    "   My Python Code every day \n",
    "\"\"\"\n"
   ]
  },
  {
   "cell_type": "markdown",
   "metadata": {},
   "source": [
    "3. Déclarez autant de variables que de type disponible possible."
   ]
  },
  {
   "cell_type": "code",
   "execution_count": 12,
   "metadata": {},
   "outputs": [],
   "source": [
    "a_int = 7\n",
    "b_float = 3.14\n",
    "c_string = \"Hello\"\n",
    "d_bool = True\n",
    "e_list = [7, 9, 8, 9, \"hey\"]\n",
    "f_tuple = (8, 6, 10, 8)\n",
    "g_set = { 5, 9, 8, 7} # pas possible plusieurs fois le même élément\n",
    "h_dict = {\"prenom\": \"Valentin\", \"age\": 27, \"sexe\": \"Oui\"}\n",
    "i_none = None\n"
   ]
  },
  {
   "cell_type": "markdown",
   "metadata": {},
   "source": [
    "4. Créer une variable “my42count” avec à l’intérieur le mot “quarante-deux” puis  déterminez le nombre de caractères de la chaine."
   ]
  },
  {
   "cell_type": "code",
   "execution_count": 70,
   "metadata": {},
   "outputs": [
    {
     "name": "stdout",
     "output_type": "stream",
     "text": [
      "13\n"
     ]
    }
   ],
   "source": [
    "my42count = \"quarante-deux\"\n",
    "print(len(my42count))"
   ]
  },
  {
   "cell_type": "markdown",
   "metadata": {},
   "source": [
    "5. Créer une variable qui détermine si une autre variable existe ou si elle n’existe pas elle prend la valeur de 42 à la place. (aucune condition acceptée !)."
   ]
  },
  {
   "cell_type": "code",
   "execution_count": 71,
   "metadata": {},
   "outputs": [
    {
     "name": "stdout",
     "output_type": "stream",
     "text": [
      "43\n"
     ]
    }
   ],
   "source": [
    "a = 1\n",
    "j = a or 42\n",
    "print(j)"
   ]
  },
  {
   "cell_type": "markdown",
   "metadata": {},
   "source": [
    "6. Créer un tableau dans une variable “myArray42” avec pour chaque index une lettre correspondant au mot suivant : “quarante-deux”."
   ]
  },
  {
   "cell_type": "code",
   "execution_count": 79,
   "metadata": {},
   "outputs": [
    {
     "name": "stdout",
     "output_type": "stream",
     "text": [
      "['q', 'u', 'a', 'r', 'a', 'n', 't', 'e', '-', 'd', 'e', 'u', 'x']\n",
      "['q', 'u', 'a', 'r', 'a', 'n', 't', 'e', '-', 'd', 'e', 'u', 'x']\n"
     ]
    }
   ],
   "source": [
    "myArray42 = list(map(lambda x : x, \"quarante-deux\"))\n",
    "print(myArray42)\n",
    "myArray42 = \"quarante-deux\"\n",
    "\n",
    "# Deuxième méthode\n",
    "print(list(myArray42))"
   ]
  },
  {
   "cell_type": "markdown",
   "metadata": {},
   "source": [
    "7. Toujours avec votre variable “myArray42” comptez le nombre d’index dans une autre variable dénommée “myArray42Len”."
   ]
  },
  {
   "cell_type": "code",
   "execution_count": 23,
   "metadata": {},
   "outputs": [
    {
     "name": "stdout",
     "output_type": "stream",
     "text": [
      "13\n"
     ]
    }
   ],
   "source": [
    "myArray42Len = len(myArray42)\n",
    "print(myArray42Len)"
   ]
  },
  {
   "cell_type": "markdown",
   "metadata": {},
   "source": [
    "8. Toujours avec  “myArray42” recomposez le mot dans une variable de type string et concaténez le mot avec la phrase “La grande réponse sur la vie, l’univers et le reste !” (aucune boucle autorisée ni de condition)."
   ]
  },
  {
   "cell_type": "code",
   "execution_count": 24,
   "metadata": {},
   "outputs": [
    {
     "data": {
      "text/plain": [
       "'La grande réponse sur la vie, l’univers et le reste ! quarante-deux'"
      ]
     },
     "execution_count": 24,
     "metadata": {},
     "output_type": "execute_result"
    }
   ],
   "source": [
    "myArray42 = f\"La grande réponse sur la vie, l’univers et le reste ! {''.join(myArray42)}\"\n",
    "myArray42"
   ]
  },
  {
   "cell_type": "markdown",
   "metadata": {},
   "source": [
    "9. Créez une variable “rand” et calculez un nombre aléatoire entre “1” et “42” si le chiffre est égal à “42” retourner “true”"
   ]
  },
  {
   "cell_type": "code",
   "execution_count": 30,
   "metadata": {},
   "outputs": [
    {
     "name": "stdout",
     "output_type": "stream",
     "text": [
      "False\n"
     ]
    }
   ],
   "source": [
    "import random \n",
    "rand = random.randint(1,42)\n",
    "\n",
    "if rand == 42:\n",
    "    print(True)\n",
    "else: \n",
    "    print(False)\n"
   ]
  },
  {
   "cell_type": "markdown",
   "metadata": {},
   "source": [
    "10. Créez autant de variables que de types de variable en python avec “my42Type” et détectez leurs types. Par exemple pour une variable de valeur  “true” je dois retourner “boolean” en string."
   ]
  },
  {
   "cell_type": "code",
   "execution_count": 76,
   "metadata": {},
   "outputs": [
    {
     "name": "stdout",
     "output_type": "stream",
     "text": [
      "int\n",
      "float\n",
      "str\n",
      "bool\n",
      "list\n",
      "tuple\n",
      "set\n",
      "dict\n",
      "NoneType\n"
     ]
    }
   ],
   "source": [
    "my42Type = type\n",
    "a_int = 7\n",
    "print(my42Type(a_int).__name__)\n",
    "\n",
    "b_float = 3.14\n",
    "print(my42Type(b_float).__name__)\n",
    "\n",
    "c_string = \"Hello\"\n",
    "print(my42Type(c_string).__name__)\n",
    "\n",
    "d_bool = True\n",
    "print(my42Type(d_bool).__name__)\n",
    "\n",
    "e_list = [7, 9, 8, 9, \"hey\"]\n",
    "print(my42Type(e_list).__name__)\n",
    "\n",
    "f_tuple = (8, 6, 10, 8)\n",
    "print(my42Type(f_tuple).__name__)\n",
    "\n",
    "g_set = { 5, 9, 8, 7} # pas possible plusieurs fois le même élément\n",
    "print(my42Type(g_set).__name__)\n",
    "\n",
    "h_dict = {\"prenom\": \"Valentin\", \"age\": 27, \"sexe\": \"Oui\"}\n",
    "print(my42Type(h_dict).__name__)\n",
    "\n",
    "i_none = None\n",
    "print(my42Type(i_none).__name__)\n",
    "\n"
   ]
  },
  {
   "cell_type": "markdown",
   "metadata": {},
   "source": [
    "11. Faites une multiplication dans une variable “compute42” dont le résultat est “42” puis transformez-la en string"
   ]
  },
  {
   "cell_type": "code",
   "execution_count": 38,
   "metadata": {},
   "outputs": [
    {
     "name": "stdout",
     "output_type": "stream",
     "text": [
      "42\n",
      "42\n",
      "<class 'str'>\n"
     ]
    }
   ],
   "source": [
    "compute42 = 7 * 6\n",
    "print(compute42)\n",
    "print(str(compute42))\n",
    "print(type(str(compute42)))"
   ]
  },
  {
   "cell_type": "markdown",
   "metadata": {},
   "source": [
    "12. Dans une variable de type string écrivez “42424242”. Puis remplacez tous les 42 par “quarante-deux ”."
   ]
  },
  {
   "cell_type": "code",
   "execution_count": 39,
   "metadata": {},
   "outputs": [
    {
     "name": "stdout",
     "output_type": "stream",
     "text": [
      "quarante-deuxquarante-deuxquarante-deuxquarante-deux\n"
     ]
    }
   ],
   "source": [
    "a = \"42424242\"\n",
    "print(a.replace(\"42\",\"quarante-deux\"))"
   ]
  },
  {
   "cell_type": "markdown",
   "metadata": {},
   "source": [
    "13. Créer 2 variables telles que a = 24 et  b = 42. Vous devez à présent transférer “a” vers “b” et “b” vers “a”."
   ]
  },
  {
   "cell_type": "code",
   "execution_count": 78,
   "metadata": {},
   "outputs": [
    {
     "name": "stdout",
     "output_type": "stream",
     "text": [
      "24\n",
      "42\n"
     ]
    }
   ],
   "source": [
    "a = 24\n",
    "b = 42\n",
    "c = 0\n",
    "\n",
    "print(a)\n",
    "print(b)\n",
    "\n",
    "c = a\n",
    "a = b\n",
    "b = c\n",
    "\n",
    "# Deuxième méthode\n",
    "a,b = b,a"
   ]
  },
  {
   "cell_type": "markdown",
   "metadata": {},
   "source": [
    "### Contrôle de flux"
   ]
  },
  {
   "cell_type": "markdown",
   "metadata": {},
   "source": [
    "*Pour prendre un exemple, imaginons qu’on écrive un programme qui affiche une recette. Normalement, l’algorithme ressemblera à quelque chose comme : « mettez de l’huile d’olive dans la poêle, versez les oignons et le miel, faites cuire à feux doux pendant 10 minutes et servez ». Mais pour rendre la recette plus générale, vous pouvez avoir envie de rajouter des alternatives : « mettez de l’huile d’olive dans la poêle (si vous n’en avez pas, mettez de la margarine), versez les oignons et le miel, faites cuire à feux doux pendant 10 minutes (si les oignons ne sont pas caramélisés, faites cuire 5 minutes de plus) et servez ».\n",
    "Le deuxième algorithme a ceci de supérieur au premier qu’il prévoit, en fonction d’une situation pouvant se présenter de deux façons différentes, deux façons différentes d’agir. Cela suppose que l’interlocuteur (le cuisinier) sache analyser la condition que nous avons fixée à son comportement (« Ai-je de l’huile d’olive ? Est-ce que mes oignons sont caramélisés ?») pour effectuer la série d’actions correspondante.*"
   ]
  },
  {
   "cell_type": "markdown",
   "metadata": {},
   "source": [
    "1. Créer un script capable de faire entrer dans une boîte de nuit une personne ayant plus    de 18 ans et refusant celles qui ont entre 0 et 17 ans. Utilisez “print();” pour afficher votre message. Vous devez faire une concaténation avec la phrase “Vous ne pouvez pas entrer vous n’êtes pas majeur vous avez {age}” ou “Vous pouvez entrer vous êtes majeur vous avez {age}”. Attention si l’âge est compris entre 42 et plus vous devenez le patron de la boite !"
   ]
  },
  {
   "cell_type": "code",
   "execution_count": 137,
   "metadata": {},
   "outputs": [
    {
     "name": "stdout",
     "output_type": "stream",
     "text": [
      "patron de la boite\n"
     ]
    }
   ],
   "source": [
    "age = int(input(\"Enter your age: \"))\n",
    "if age >= 42: \n",
    "    print(f\"patron de la boite\")\n",
    "elif age >= 18:\n",
    "    print(f\"Vous pouvez entrer vous êtes majeur vous avez {age}\")\n",
    "elif age > 0 and age < 18:\n",
    "    print(f\"Vous ne pouvez pas entrer vous n’êtes pas majeur vous avez {age}\")\n",
    "else: \n",
    "    print(\"Age invalide\")"
   ]
  },
  {
   "cell_type": "markdown",
   "metadata": {},
   "source": [
    "2. Créer un algorithme qui retourne : “Cool” quand la valeur est comprise entre 0 et 10. “Tepid” quand la valeur est comprise entre 11 et 20. “Warm” quand la valeur est comprise entre 21 et 30. Cette condition devra utiliser une variable “rand” avec un nombre aléatoire compris entre 0 et 30."
   ]
  },
  {
   "cell_type": "code",
   "execution_count": 158,
   "metadata": {},
   "outputs": [
    {
     "data": {
      "text/plain": [
       "'Cool'"
      ]
     },
     "execution_count": 158,
     "metadata": {},
     "output_type": "execute_result"
    }
   ],
   "source": [
    "import random\n",
    "\n",
    "def match_case(nbr):\n",
    "    if nbr >= 0 and  nbr <= 10:\n",
    "        return \"Cool\"\n",
    "    elif  nbr > 10 and nbr <= 20:\n",
    "        return \"Tepid\"\n",
    "    else:\n",
    "        return \"Warm\"\n",
    "\n",
    "match_case(random.randint(0, 30))\n",
    "            "
   ]
  },
  {
   "cell_type": "markdown",
   "metadata": {},
   "source": [
    "3. Utilisez le “match” pour déterminer le jour de la semaine avec “datetime”. Si nous sommes lundi vous devrez reconnaître que nous sommes lundi et afficher “nous sommes {jour}”. Faites cela pour tous les autres jours de la semaine.\n"
   ]
  },
  {
   "cell_type": "code",
   "execution_count": 162,
   "metadata": {},
   "outputs": [
    {
     "name": "stdout",
     "output_type": "stream",
     "text": [
      "nous sommes mercredi\n"
     ]
    }
   ],
   "source": [
    "from datetime import datetime\n",
    "import locale\n",
    "locale.setlocale(locale.LC_ALL, 'fr_FR.UTF-8')\n",
    "\n",
    "jour = datetime.now()\n",
    "jour = jour.strftime('%A')\n",
    "\n",
    "match jour:\n",
    "    case \"lundi\":\n",
    "        print(f\"nous sommes {jour}\")\n",
    "    case \"mardi\":\n",
    "        print(f\"nous sommes {jour}\")\n",
    "    case \"mercredi\":\n",
    "        print(f\"nous sommes {jour}\")\n",
    "    case \"jeudi\":\n",
    "        print(f\"nous sommes {jour}\")\n",
    "    case \"vendredi\":\n",
    "        print(f\"nous sommes {jour}\")\n",
    "    case \"samedi\":\n",
    "        print(f\"nous sommes {jour}\")\n",
    "    case \"dimanche\":\n",
    "        print(f\"nous sommes {jour}\")"
   ]
  },
  {
   "cell_type": "markdown",
   "metadata": {},
   "source": [
    "4. Afin d’utiliser les conditions imbriquées, créer une histoire avec 3 niveaux minimum avec au minimum 3 fins différentes vous devez faire des “if” imbriqués. Vous devez utiliser la fonction “input()”. Aucune autre fonction n’est autorisée. Bien entendu une des fins doit obligatoirement finir par “La grande réponse sur la vie, l’univers et le reste !”.  Utilisez “print()”. "
   ]
  },
  {
   "cell_type": "code",
   "execution_count": 163,
   "metadata": {},
   "outputs": [
    {
     "name": "stdout",
     "output_type": "stream",
     "text": [
      "La grande réponse sur la vie, l’univers !\n"
     ]
    }
   ],
   "source": [
    "choix = input(\"Choisir : A, B ou C\")\n",
    "match choix :\n",
    "    case  \"A\" :\n",
    "        if \"histoire 1\":\n",
    "            test = input(\"fin 1, fin 2, autre\")\n",
    "            if test == \"fin 1\" :\n",
    "                print(\"La grande réponse sur la vie, l’univers !\")\n",
    "            elif test == \"fin 2\":\n",
    "                print(\"La grande réponse sur la vie\")\n",
    "            else :\n",
    "                print(\"La grande réponse sur la vie, l’univers et le reste !\")\n",
    "                \n",
    "        elif \"histoire 2\":\n",
    "            test = input(\"fin 1, fin 2, autre\")\n",
    "            if test == \"fin 1\" :\n",
    "                print(\"La grande réponse sur la vie, l’univers !\")\n",
    "            elif test == \"fin 2\":\n",
    "                print(\"La grande réponse sur la vie\")\n",
    "            else :\n",
    "                print(\"La grande réponse sur la vie, l’univers et le reste !\")\n",
    "        else : \n",
    "            test = input(\"fin 1, fin 2, autre\")\n",
    "            if test == \"fin 1\" :\n",
    "                print(\"La grande réponse sur la vie, l’univers !\")\n",
    "            elif test == \"fin 2\":\n",
    "                print(\"La grande réponse sur la vie\")\n",
    "            else :\n",
    "                print(\"La grande réponse sur la vie, l’univers et le reste !\")\n",
    "    case  \"B\" :\n",
    "        if \"histoire 1\":\n",
    "            test = input(\"fin 1, fin 2, autre\")\n",
    "            if test == \"fin 1\" :\n",
    "                print(\"La grande réponse sur la vie, l’univers !\")\n",
    "            elif test == \"fin 2\":\n",
    "                print(\"La grande réponse sur la vie\")\n",
    "            else :\n",
    "                print(\"La grande réponse sur la vie, l’univers et le reste !\")\n",
    "                \n",
    "        elif \"histoire 2\":\n",
    "            test = input(\"fin 1, fin 2, autre\")\n",
    "            if test == \"fin 1\" :\n",
    "                print(\"La grande réponse sur la vie, l’univers !\")\n",
    "            elif test == \"fin 2\":\n",
    "                print(\"La grande réponse sur la vie\")\n",
    "            else :\n",
    "                print(\"La grande réponse sur la vie, l’univers et le reste !\")\n",
    "        else : \n",
    "            test = input(\"fin 1, fin 2, autre\")\n",
    "            if test == \"fin 1\" :\n",
    "                print(\"La grande réponse sur la vie, l’univers !\")\n",
    "            elif test == \"fin 2\":\n",
    "                print(\"La grande réponse sur la vie\")\n",
    "            else :\n",
    "                print(\"La grande réponse sur la vie, l’univers et le reste !\")\n",
    "    case  \"C\" :\n",
    "        if \"histoire 1\":\n",
    "            test = input(\"fin 1, fin 2, autre\")\n",
    "            if test == \"fin 1\" :\n",
    "                print(\"La grande réponse sur la vie, l’univers !\")\n",
    "            elif test == \"fin 2\":\n",
    "                print(\"La grande réponse sur la vie\")\n",
    "            else :\n",
    "                print(\"La grande réponse sur la vie, l’univers et le reste !\")\n",
    "                \n",
    "        elif \"histoire 2\":\n",
    "            test = input(\"fin 1, fin 2, autre\")\n",
    "            if test == \"fin 1\" :\n",
    "                print(\"La grande réponse sur la vie, l’univers !\")\n",
    "            elif test == \"fin 2\":\n",
    "                print(\"La grande réponse sur la vie\")\n",
    "            else :\n",
    "                print(\"La grande réponse sur la vie, l’univers et le reste !\")\n",
    "        else : \n",
    "            test = input(\"fin 1, fin 2, autre\")\n",
    "            if test == \"fin 1\" :\n",
    "                print(\"La grande réponse sur la vie, l’univers !\")\n",
    "            elif test == \"fin 2\":\n",
    "                print(\"La grande réponse sur la vie\")\n",
    "            else :\n",
    "                print(\"La grande réponse sur la vie, l’univers et le reste !\")"
   ]
  },
  {
   "cell_type": "markdown",
   "metadata": {},
   "source": [
    "5. Faites une condition ternaire qui teste si une variable existe ou non. Si elle n’existe pas écrivez “cette variable n’existe pas” autrement écrivez “42”."
   ]
  },
  {
   "cell_type": "code",
   "execution_count": 164,
   "metadata": {},
   "outputs": [
    {
     "name": "stdout",
     "output_type": "stream",
     "text": [
      "42\n"
     ]
    }
   ],
   "source": [
    "condition = print('Cette variable n\\'existe') if 'x' in vars() else print(42)"
   ]
  },
  {
   "cell_type": "markdown",
   "metadata": {},
   "source": [
    "6. Calculer le prix d'un article après l'application d'une remise. L'utilisateur est invité à entrer le prix initial de l'article et le pourcentage de remise. Ensuite, le programme calcule le montant de la remise et le prix final après remise. Si le prix final est supérieur à la moitié du prix initial, les résultats sont affichés. \n",
    "Sinon, un message d'erreur est affiché indiquant que la remise est trop élevée."
   ]
  },
  {
   "cell_type": "code",
   "execution_count": 167,
   "metadata": {},
   "outputs": [
    {
     "name": "stdout",
     "output_type": "stream",
     "text": [
      "40.5\n"
     ]
    }
   ],
   "source": [
    "prix = float(input(\"Entrer un prix\"))\n",
    "pourcentage = float(input(\"Pourcentage\"))\n",
    "\n",
    "remise = (prix * pourcentage) / 100\n",
    "prix_avec_remise = prix - remise\n",
    "\n",
    "if prix_avec_remise > prix/2 :\n",
    "    print(prix_avec_remise)\n",
    "else:\n",
    "    print(\"Erreur\")"
   ]
  },
  {
   "cell_type": "markdown",
   "metadata": {},
   "source": [
    "7. Vérifier si un nombre saisi par l'utilisateur est pair ou non. Le programme demande à l'utilisateur d'entrer un nombre, puis il vérifie si le nombre est pair ou impair. Si c'est le cas, le programme affiche que le nombre est pair. Sinon, il affiche que le nombre n'est pas pair.\n",
    "Faites en sorte qu’on ne puisse entrer que des entiers. "
   ]
  },
  {
   "cell_type": "code",
   "execution_count": 166,
   "metadata": {},
   "outputs": [
    {
     "name": "stdout",
     "output_type": "stream",
     "text": [
      "impair\n"
     ]
    }
   ],
   "source": [
    "number = int(input(\"Entrez un prix\"))\n",
    "if type(number) == int :\n",
    "    if number %2 == 0 and type(number) == int :\n",
    "        print(\"pair\")\n",
    "    else:\n",
    "        print(\"impair\")\n",
    "else:\n",
    "    print(\"erreur\")"
   ]
  },
  {
   "cell_type": "markdown",
   "metadata": {},
   "source": [
    "#### Liste et condition"
   ]
  },
  {
   "cell_type": "markdown",
   "metadata": {},
   "source": [
    "Les boucles permettent de répéter des actions simplement et rapidement. Une boucle peut être vue comme une version informatique de « copier N lignes » ou de « faire X fois quelque chose ». Il y a différents types de boucles mais elles se ressemblent toutes au sens où elles répètent une action un certain nombre de fois (ce nombre peut éventuellement être zéro). Les différents types de boucles permettent d'utiliser différentes façon de commencer et de terminer une boucle. Chaque type de boucle pourra être utilisé en fonction de la situation et du problème que l'on cherche à résoudre."
   ]
  },
  {
   "cell_type": "markdown",
   "metadata": {},
   "source": [
    "1. Vous devez réaliser les tables de multiplications de “1, 2, 3, 5” et “8”.\n",
    "Création d’une liste par table avec l’ensemble des résultats des multiplications"
   ]
  },
  {
   "cell_type": "code",
   "execution_count": 13,
   "metadata": {},
   "outputs": [
    {
     "name": "stdout",
     "output_type": "stream",
     "text": [
      "[0, 1, 2, 3, 4, 5, 6, 7, 8, 9, 10]\n",
      "[0, 2, 4, 6, 8, 10, 12, 14, 16, 18, 20]\n",
      "[0, 3, 6, 9, 12, 15, 18, 21, 24, 27, 30]\n",
      "[0, 5, 10, 15, 20, 25, 30, 35, 40, 45, 50]\n",
      "[0, 8, 16, 24, 32, 40, 48, 56, 64, 72, 80]\n"
     ]
    }
   ],
   "source": [
    "liste = [1, 2, 3 ,5, 8]\n",
    "for elem in liste:\n",
    "    table = [] \n",
    "    for i in range(11):\n",
    "        table.append(elem * i)\n",
    "    print(table)\n"
   ]
  },
  {
   "cell_type": "code",
   "execution_count": 22,
   "metadata": {},
   "outputs": [
    {
     "data": {
      "text/plain": [
       "[[0, 1, 2, 3, 4, 5, 6, 7, 8, 9, 10],\n",
       " [0, 2, 4, 6, 8, 10, 12, 14, 16, 18, 20],\n",
       " [0, 3, 6, 9, 12, 15, 18, 21, 24, 27, 30],\n",
       " [0, 5, 10, 15, 20, 25, 30, 35, 40, 45, 50],\n",
       " [0, 8, 16, 24, 32, 40, 48, 56, 64, 72, 80]]"
      ]
     },
     "execution_count": 22,
     "metadata": {},
     "output_type": "execute_result"
    }
   ],
   "source": [
    "liste = [1, 2, 3 ,5, 8]\n",
    "\n",
    "def myfunc(a):\n",
    "  return [a * i for i in range(11)]\n",
    "\n",
    "list(map(myfunc, liste))\n"
   ]
  },
  {
   "cell_type": "markdown",
   "metadata": {},
   "source": [
    "2. Vous devez créer une liste de 1 à 10 et multiplier les résultats de la table de “5” (vous n'avez le droit d’utiliser que les String). Utilisez une boucle For."
   ]
  },
  {
   "cell_type": "code",
   "execution_count": 11,
   "metadata": {},
   "outputs": [
    {
     "name": "stdout",
     "output_type": "stream",
     "text": [
      "5 * 1 = 5\n",
      "5 * 2 = 10\n",
      "5 * 3 = 15\n",
      "5 * 4 = 20\n",
      "5 * 5 = 25\n",
      "5 * 6 = 30\n",
      "5 * 7 = 35\n",
      "5 * 8 = 40\n",
      "5 * 9 = 45\n",
      "5 * 10 = 50\n"
     ]
    }
   ],
   "source": [
    "liste = [str(elem) for elem in range(1,11)]\n",
    "table_cinq = []\n",
    "for elem in liste:\n",
    "    res = f\"5 * {elem} = {int(elem) * 5}\"\n",
    "    table_cinq.append(res)\n",
    "\n",
    "for elem in table_cinq:\n",
    "    print(elem)"
   ]
  },
  {
   "cell_type": "markdown",
   "metadata": {},
   "source": [
    "3. Même exercice que le 2 avec une boucle “while” avec “true” comme valeur de condition. Faites une incrémentation dans un print() avec la table de multiplication par “5”. "
   ]
  },
  {
   "cell_type": "code",
   "execution_count": 23,
   "metadata": {},
   "outputs": [
    {
     "name": "stdout",
     "output_type": "stream",
     "text": [
      "5 x 0 = 0\n",
      "5 x 1 = 5\n",
      "5 x 2 = 10\n",
      "5 x 3 = 15\n",
      "5 x 4 = 20\n",
      "5 x 5 = 25\n",
      "5 x 6 = 30\n",
      "5 x 7 = 35\n",
      "5 x 8 = 40\n",
      "5 x 9 = 45\n",
      "5 x 10 = 50\n"
     ]
    }
   ],
   "source": [
    "max = 10\n",
    "i = 0\n",
    "table_cinq = []\n",
    "while True:\n",
    "    print(f\"5 x {str(i)} = {str(5 * i)}\")\n",
    "    i += 1\n",
    "    if i > max:\n",
    "        break"
   ]
  },
  {
   "cell_type": "markdown",
   "metadata": {},
   "source": [
    "4. Vous devez créer une variable avec l’objet suivant {“a”: 42, “b”: 42, “c”: 42, “d”: 42}. Vous devrez parcourir chaque key et faire la multiplication de la valeur précédente par la nouvelle (accumulateur) sauf pour la lettre ‘d’ ou vous devrez faire une soustraction de 42. Le calcul retournera “74046” "
   ]
  },
  {
   "cell_type": "code",
   "execution_count": 18,
   "metadata": {},
   "outputs": [
    {
     "name": "stdout",
     "output_type": "stream",
     "text": [
      "74046\n"
     ]
    }
   ],
   "source": [
    "obj = {\"a\": 42, \"b\": 42, \"c\": 42, \"d\": 42}\n",
    "default_value = 1\n",
    "\n",
    "for key in obj:\n",
    "    if key == \"d\":\n",
    "        default_value -= 42\n",
    "    else:\n",
    "        default_value *= obj[key]\n",
    "\n",
    "res = str(default_value)\n",
    "print(res)  \n"
   ]
  },
  {
   "cell_type": "markdown",
   "metadata": {},
   "source": [
    "5. Écrivez un programme qui génère et affiche le motif suivant en utilisant des boucles imbriquées : * **  *** **** *****"
   ]
  },
  {
   "cell_type": "code",
   "execution_count": 53,
   "metadata": {},
   "outputs": [
    {
     "name": "stdout",
     "output_type": "stream",
     "text": [
      "* ** *** **** *****\n",
      "* ** *** **** *****\n"
     ]
    }
   ],
   "source": [
    "var = \"\"\n",
    "liste= []\n",
    "for i in range(5):\n",
    "    var += \"*\"\n",
    "    liste.append(var)\n",
    "print(\" \".join(liste))\n",
    "\n",
    "# ou\n",
    "\n",
    "print(\" \".join(list(map(lambda x: x * \"*\", range(1,6)))))\n"
   ]
  },
  {
   "cell_type": "markdown",
   "metadata": {},
   "source": [
    "6. (Trie à bulle) Vous devez réaliser un algo qui vous permettra de trier un tableau “nbr” en ordre croissant par exemple si j’ai “[5, 4, 3, 2, 1]” le résultat sera “[1, 2, 3, 4, 5]”. Vous n’avez pas le droit d’utiliser de fonction."
   ]
  },
  {
   "cell_type": "code",
   "execution_count": 1,
   "metadata": {},
   "outputs": [
    {
     "name": "stdout",
     "output_type": "stream",
     "text": [
      "[1, 2, 4, 5, 7]\n"
     ]
    }
   ],
   "source": [
    "liste = [5, 4, 7, 2, 1]\n",
    "taille_liste = len(liste)\n",
    "for i in range(taille_liste - 1): \n",
    "    for j in range(taille_liste - i - 1):  \n",
    "        if liste[j] > liste[j + 1]: # si élément liste[0] > liste[1] on swap et ainsi de suite\n",
    "            liste[j], liste[j + 1] = liste[j + 1], liste[j]\n",
    "\n",
    "print(liste)\n"
   ]
  },
  {
   "cell_type": "markdown",
   "metadata": {},
   "source": [
    "7. Faire une liste partant de 1980 à nos jours en prenant en compte l’année actuelle actualisé."
   ]
  },
  {
   "cell_type": "code",
   "execution_count": 20,
   "metadata": {},
   "outputs": [
    {
     "name": "stdout",
     "output_type": "stream",
     "text": [
      "[1980, 1981, 1982, 1983, 1984, 1985, 1986, 1987, 1988, 1989, 1990, 1991, 1992, 1993, 1994, 1995, 1996, 1997, 1998, 1999, 2000, 2001, 2002, 2003, 2004, 2005, 2006, 2007, 2008, 2009, 2010, 2011, 2012, 2013, 2014, 2015, 2016, 2017, 2018, 2019, 2020, 2021, 2022, 2023]\n"
     ]
    }
   ],
   "source": [
    "import datetime \n",
    "\n",
    "date_today = datetime.date.today().year\n",
    "date_before = 1980\n",
    "liste = [elem for elem in range(date_before, date_today)]\n",
    "print(liste)"
   ]
  },
  {
   "cell_type": "markdown",
   "metadata": {},
   "source": [
    "8. Faite en sorte d’afficher la structure visuelle suivante (cf ex5) en un script avec une boucle for :"
   ]
  },
  {
   "cell_type": "code",
   "execution_count": 21,
   "metadata": {},
   "outputs": [
    {
     "name": "stdout",
     "output_type": "stream",
     "text": [
      "\n",
      "1\n",
      "11\n",
      "111\n",
      "1111\n",
      "11111\n",
      "111111\n",
      "1111111\n",
      "11111111\n",
      "111111111\n",
      "1111111111\n"
     ]
    }
   ],
   "source": [
    "for i in range(11):\n",
    "    var = \"1\"*i\n",
    "    print(var)"
   ]
  },
  {
   "cell_type": "markdown",
   "metadata": {},
   "source": [
    "9. Si vous avez réussi le précédent exercice, vous pouvez essayer d’afficher cette structure "
   ]
  },
  {
   "cell_type": "code",
   "execution_count": 22,
   "metadata": {},
   "outputs": [
    {
     "name": "stdout",
     "output_type": "stream",
     "text": [
      "         [ ]\n",
      "        [[ ]]\n",
      "       [[[ ]]]\n",
      "      [[[[ ]]]]\n",
      "     [[[[[ ]]]]]\n",
      "    [[[[[[ ]]]]]]\n",
      "   [[[[[[[ ]]]]]]]\n",
      "  [[[[[[[[ ]]]]]]]]\n",
      " [[[[[[[[[ ]]]]]]]]]\n",
      "[[[[[[[[[[ ]]]]]]]]]]\n"
     ]
    }
   ],
   "source": [
    "def pyramide_fonction(hauteur):\n",
    "    for i in range(1, hauteur + 1):\n",
    "        print(\" \" * (hauteur - i), end=\"\")\n",
    "        print(f\"{'[' * i} {']' * i}\")\n",
    "\n",
    "pyramide = 10\n",
    "pyramide_fonction(pyramide)\n"
   ]
  },
  {
   "cell_type": "markdown",
   "metadata": {},
   "source": [
    "#### Les fonctions"
   ]
  },
  {
   "cell_type": "markdown",
   "metadata": {},
   "source": [
    "1. Vous devez créer une fonction “myPutStr” cette fonction doit permettre de retourner un String. Si c’est un nombre retournez “et pourquoi pas 42 ?”."
   ]
  },
  {
   "cell_type": "code",
   "execution_count": 103,
   "metadata": {},
   "outputs": [
    {
     "name": "stdout",
     "output_type": "stream",
     "text": [
      "et pourquoi pas 42\n"
     ]
    }
   ],
   "source": [
    "def myPuStr(elem):\n",
    "    if isinstance(elem, (float, int)):\n",
    "        return \"et pourquoi pas 42\"\n",
    "    \n",
    "print(myPuStr(1.5))"
   ]
  },
  {
   "cell_type": "markdown",
   "metadata": {},
   "source": [
    "2. Créer une fonction “computeSurfaceM2” qui calcule une surface en m² carré."
   ]
  },
  {
   "cell_type": "code",
   "execution_count": 101,
   "metadata": {},
   "outputs": [
    {
     "name": "stdout",
     "output_type": "stream",
     "text": [
      "Votre surface est de : 7744 m²\n"
     ]
    }
   ],
   "source": [
    "def computeSurfaceM2(elem):\n",
    "    if isinstance(elem, (float, int)):\n",
    "        return f\"Votre surface est de : {elem**2} m²\"\n",
    "    return False\n",
    "\n",
    "print(computeSurfaceM2(88))"
   ]
  },
  {
   "cell_type": "markdown",
   "metadata": {},
   "source": [
    "3. Créer une fonction “detectMyAgeByNight” capable d’implémenter votre précédent script de la boîte de nuit et de faire entrer dans une boîte de nuit une personne ayant plus de 18 ans et refusant celles qui ont entre 0 et 17. "
   ]
  },
  {
   "cell_type": "code",
   "execution_count": 104,
   "metadata": {},
   "outputs": [
    {
     "name": "stdout",
     "output_type": "stream",
     "text": [
      "Vous ne pouvez pas entrer vous n’êtes pas majeur vous avez 8\n"
     ]
    }
   ],
   "source": [
    "def detectMyAgeByNight(age):\n",
    "    if age >= 42: \n",
    "        return f\"patron de la boite\"\n",
    "    elif age >= 18:\n",
    "        return f\"Vous pouvez entrer vous êtes majeur vous avez {age}\"\n",
    "    elif age > 0 and age < 18:\n",
    "        return f\"Vous ne pouvez pas entrer vous n’êtes pas majeur vous avez {age}\"\n",
    "    return \"Age invalide\"\n",
    "    \n",
    "print(detectMyAgeByNight(int(input(\"Enter your age: \"))))"
   ]
  },
  {
   "cell_type": "markdown",
   "metadata": {},
   "source": [
    "4. Faite en sorte de créer une fonction “tableGenerator” capable de générer un tableau matriciel avec des “|” et des ”-”  d’après une liste python à plusieurs dimensions. \n",
    "Se tableau devra obligatoirement comprendre des titres pour chaque colonnes même vide et des valeurs même si vide. \n",
    "Appuyez-vous sur la structure de votre liste pour reproduire votre tableau à l’identique dans votre console\n"
   ]
  },
  {
   "cell_type": "code",
   "execution_count": 97,
   "metadata": {},
   "outputs": [
    {
     "name": "stdout",
     "output_type": "stream",
     "text": [
      "|       | Test1 | Test2 | Test3 | Test4 |\n",
      "| ----- | ----- | ----- | ----- | ----- |\n",
      "| Data1 | 1     | 2     | 5     | 8     |\n",
      "| Data2 | 1     | 2     | 5     | 8     |\n",
      "| Data3 | 4     | 2     | 6     | 8     |\n",
      "| Data4 | 2     | 6     | 856556| 7     |\n",
      "| Data5 | 5     | 9     | 7     | 8     |\n"
     ]
    }
   ],
   "source": [
    "def tableGenerator(tableau):\n",
    "    if not tableau or not tableau[0]:\n",
    "        return []\n",
    "\n",
    "    num_columns = len(tableau[0])\n",
    "    num_rows = len(tableau)\n",
    "\n",
    "    big_tabl = []\n",
    "    \n",
    "    header = [\"|       |\"]\n",
    "    for i in range(1, num_columns + 1):\n",
    "        header.append(f\" Test{i} |\")\n",
    "    \n",
    "    separator = [\"| ----- |\"]\n",
    "    for _ in range(1, num_columns + 1):\n",
    "        separator.append(\" ----- |\")\n",
    "    \n",
    "    data_rows = []\n",
    "    for i in range(num_rows):\n",
    "        data_row = [f\"| Data{i + 1} |\"]\n",
    "        for j in range(num_columns):\n",
    "            cell = str(tableau[i][j])\n",
    "            padding = ' ' * (6 - len(cell))\n",
    "            data_row.append(f\" {cell}{padding}|\")\n",
    "        data_rows.append(data_row)\n",
    "    \n",
    "    big_tabl.append(header)\n",
    "    big_tabl.append(separator)\n",
    "    big_tabl.extend(data_rows)\n",
    "    \n",
    "    return big_tabl\n",
    "\n",
    "tableau = [[1, 2, 5,8], [1, 2, 5,8], [4, 2, 6,8], [2, 6, 856556,7], [5,9,7,8]]\n",
    "for elem in tableGenerator(tableau):\n",
    "    print(\"\".join(elem))\n"
   ]
  },
  {
   "cell_type": "markdown",
   "metadata": {},
   "source": [
    "5. Vous devez réaliser une horloge numérique en affichant l’heure actuelle en temps réel. Cette horloge devra être actualisée toutes les secondes."
   ]
  },
  {
   "cell_type": "markdown",
   "metadata": {},
   "source": []
  },
  {
   "cell_type": "code",
   "execution_count": 2,
   "metadata": {},
   "outputs": [
    {
     "data": {
      "text/plain": [
       "'2024-05-22 12:00:41.673518 1 seconde après -> 2024-05-22 12:00:42.673518'"
      ]
     },
     "execution_count": 2,
     "metadata": {},
     "output_type": "execute_result"
    }
   ],
   "source": [
    "import datetime as dt\n",
    "\n",
    "def time_now():\n",
    "    time_now = dt.datetime.now()\n",
    "    time_now_1 = time_now + dt.timedelta(0,1)\n",
    "    return f\"{time_now} 1 seconde après -> {time_now_1}\"\n",
    "\n",
    "time_now()\n"
   ]
  },
  {
   "cell_type": "markdown",
   "metadata": {},
   "source": [
    "6. Faite en sorte de créer une fonction “is_palindrome” qui vérifie si une chaîne de caractère est un palindrome elle devra renvoyer “True” ou “False”"
   ]
  },
  {
   "cell_type": "code",
   "execution_count": 1,
   "metadata": {},
   "outputs": [
    {
     "data": {
      "text/plain": [
       "True"
      ]
     },
     "execution_count": 1,
     "metadata": {},
     "output_type": "execute_result"
    }
   ],
   "source": [
    "def is_palindrome(elem):\n",
    "    if elem[::-1] == elem:\n",
    "        return True\n",
    "    return False\n",
    "  \n",
    "\n",
    "is_palindrome(\"bob\")"
   ]
  },
  {
   "cell_type": "markdown",
   "metadata": {},
   "source": [
    "7. Faite en sorte de créer une fonction “validMyInternationalPhone” qui contrôle un numéro de téléphone passé en argument et l’indicatif du pays concerné dans un second argument. Vous devrez vérifier et faire en sorte que les numéros Français et des Etats-Unis renvoient “True” si le numéro est compatible avec le pays du second argument et “False” dans le cas contraire."
   ]
  },
  {
   "cell_type": "code",
   "execution_count": 8,
   "metadata": {},
   "outputs": [
    {
     "data": {
      "text/plain": [
       "True"
      ]
     },
     "execution_count": 8,
     "metadata": {},
     "output_type": "execute_result"
    }
   ],
   "source": [
    "import re\n",
    "\n",
    "def validMyInternationalPhone(num, indicatif):\n",
    "    if indicatif == \"+33\":\n",
    "        \n",
    "        return True\n",
    "    elif indicatif == \"+1\":\n",
    "        return True \n",
    "    else: \n",
    "        return True\n",
    "\n",
    "validMyInternationalPhone(\"0652882822\", \"+1\")\n"
   ]
  },
  {
   "cell_type": "markdown",
   "metadata": {},
   "source": [
    "8. Vous devez réaliser une fonction capable de calculer la suite de fibonacci à partir d’une taille limite fix en argument pour limiter la taille de la suite. Vous deverez réaliser obligatoirement une recursive."
   ]
  },
  {
   "cell_type": "code",
   "execution_count": 2,
   "metadata": {},
   "outputs": [
    {
     "name": "stdout",
     "output_type": "stream",
     "text": [
      "0\n",
      "1\n",
      "1\n",
      "2\n",
      "3\n",
      "5\n",
      "8\n",
      "13\n",
      "21\n",
      "34\n"
     ]
    }
   ],
   "source": [
    "def fibonacci(n):\n",
    "    if(n <= 1):\n",
    "        return n\n",
    "    else:\n",
    "        return (fibonacci(n-1) + fibonacci(n-2))\n",
    "\n",
    "n = int(input(\"Entrez le nombre de termes:\"))\n",
    "\n",
    "for i in range(n):\n",
    "    print(fibonacci(i))"
   ]
  },
  {
   "cell_type": "markdown",
   "metadata": {},
   "source": [
    "9. Écrivez un décorateur appelé calculate_time qui mesure le temps d'exécution d'une fonction et affiche le temps écoulé."
   ]
  },
  {
   "cell_type": "code",
   "execution_count": 18,
   "metadata": {},
   "outputs": [
    {
     "name": "stdout",
     "output_type": "stream",
     "text": [
      "exécution du code\n",
      "Temps d'exécution: 0.001001596450805664\n",
      "None\n"
     ]
    }
   ],
   "source": [
    "import time\n",
    "\n",
    "def decorateur(funct):\n",
    "    def timer(*args, **kwargs):\n",
    "        t0 = time.time()\n",
    "        result = funct(*args, **kwargs)\n",
    "        t1 = time.time()\n",
    "        print(\"Temps d'exécution:\", t1 - t0)\n",
    "        return result\n",
    "    return timer\n",
    "\n",
    "@decorateur\n",
    "def dothis():\n",
    "    print(\"exécution du code\")\n",
    "\n",
    "print(dothis())\n"
   ]
  },
  {
   "cell_type": "code",
   "execution_count": null,
   "metadata": {},
   "outputs": [],
   "source": [
    "test revertneweeeee"
   ]
  }
 ],
 "metadata": {
  "kernelspec": {
   "display_name": "Python 3",
   "language": "python",
   "name": "python3"
  },
  "language_info": {
   "codemirror_mode": {
    "name": "ipython",
    "version": 3
   },
   "file_extension": ".py",
   "mimetype": "text/x-python",
   "name": "python",
   "nbconvert_exporter": "python",
   "pygments_lexer": "ipython3",
   "version": "3.10.11"
  }
 },
 "nbformat": 4,
 "nbformat_minor": 2
}
