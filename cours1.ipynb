{
 "cells": [
  {
   "cell_type": "markdown",
   "metadata": {},
   "source": [
    "## Python"
   ]
  },
  {
   "cell_type": "markdown",
   "metadata": {},
   "source": [
    "*Dans les mathématiques élémentaires, une variable désigne une grandeur dont la valeur est (provisoirement) indéterminée, mais sur laquelle est effectuée une combinaison d'opérations avec soit des constantes, soit d'autres variables. Une variable n'est pas totalement précisée, sa valeur peut même être inconnue, mais elle doit appartenir à un ensemble. Faire des calculs avec les variables comme s'il s'agissait de nombres explicites permet de résoudre, en une seule fois, des problèmes analogues.\n",
    "La variable est habituellement représentée par un symbole, le plus souvent une lettre de l'alphabet latin telle que x ou y. Une fonction numérique y=f(x) implique deux variables, une valeur d'entrée indépendante x et une valeur de sortie y qui est le résultat d'un calcul effectué sur la variable d'entrée. Le terme variable provient du fait que lorsque l'antécédent x de la fonction varie, alors son image y varie aussi.\n",
    "Dans les mathématiques supérieures et en logique, une variable est un symbole utilisé pour marquer un rôle dans un prédicat, une formule ou un algorithme. Il peut s'agir d'une simple valeur, ou d'un objet mathématique tel qu'un vecteur, une matrice ou même une fonction. Dans un polynôme, une fraction rationnelle ou une série formelle, la variable est remplacée par une indéterminée notée X.*"
   ]
  },
  {
   "cell_type": "markdown",
   "metadata": {},
   "source": [
    "1. Réalisez un commentaire monoligne avec “My Python Code Forever”."
   ]
  },
  {
   "cell_type": "code",
   "execution_count": 65,
   "metadata": {},
   "outputs": [],
   "source": [
    "# My Python Code Forever"
   ]
  },
  {
   "cell_type": "markdown",
   "metadata": {},
   "source": [
    "2. Réalisez un commentaire multiligne avec ”My Python Code every day”."
   ]
  },
  {
   "cell_type": "code",
   "execution_count": 66,
   "metadata": {},
   "outputs": [
    {
     "data": {
      "text/plain": [
       "'\\n   My Python Code every day \\n'"
      ]
     },
     "execution_count": 66,
     "metadata": {},
     "output_type": "execute_result"
    }
   ],
   "source": [
    "\"\"\"\n",
    "   My Python Code every day \n",
    "\"\"\"\n"
   ]
  },
  {
   "cell_type": "markdown",
   "metadata": {},
   "source": [
    "3. Déclarez autant de variables que de type disponible possible."
   ]
  },
  {
   "cell_type": "code",
   "execution_count": 12,
   "metadata": {},
   "outputs": [],
   "source": [
    "a_int = 7\n",
    "b_float = 3.14\n",
    "c_string = \"Hello\"\n",
    "d_bool = True\n",
    "e_list = [7, 9, 8, 9, \"hey\"]\n",
    "f_tuple = (8, 6, 10, 8)\n",
    "g_set = { 5, 9, 8, 7} # pas possible plusieurs fois le même élément\n",
    "h_dict = {\"prenom\": \"Valentin\", \"age\": 27, \"sexe\": \"Oui\"}\n",
    "i_none = None\n"
   ]
  },
  {
   "cell_type": "markdown",
   "metadata": {},
   "source": [
    "4. Créer une variable “my42count” avec à l’intérieur le mot “quarante-deux” puis  déterminez le nombre de caractères de la chaine."
   ]
  },
  {
   "cell_type": "code",
   "execution_count": 70,
   "metadata": {},
   "outputs": [
    {
     "name": "stdout",
     "output_type": "stream",
     "text": [
      "13\n"
     ]
    }
   ],
   "source": [
    "my42count = \"quarante-deux\"\n",
    "print(len(my42count))"
   ]
  },
  {
   "cell_type": "markdown",
   "metadata": {},
   "source": [
    "5. Créer une variable qui détermine si une autre variable existe ou si elle n’existe pas elle prend la valeur de 42 à la place. (aucune condition acceptée !)."
   ]
  },
  {
   "cell_type": "code",
   "execution_count": 71,
   "metadata": {},
   "outputs": [
    {
     "name": "stdout",
     "output_type": "stream",
     "text": [
      "43\n"
     ]
    }
   ],
   "source": [
    "a = 1\n",
    "j = a or 42\n",
    "print(j)"
   ]
  },
  {
   "cell_type": "markdown",
   "metadata": {},
   "source": [
    "6. Créer un tableau dans une variable “myArray42” avec pour chaque index une lettre correspondant au mot suivant : “quarante-deux”."
   ]
  },
  {
   "cell_type": "code",
   "execution_count": 79,
   "metadata": {},
   "outputs": [
    {
     "name": "stdout",
     "output_type": "stream",
     "text": [
      "['q', 'u', 'a', 'r', 'a', 'n', 't', 'e', '-', 'd', 'e', 'u', 'x']\n",
      "['q', 'u', 'a', 'r', 'a', 'n', 't', 'e', '-', 'd', 'e', 'u', 'x']\n"
     ]
    }
   ],
   "source": [
    "myArray42 = list(map(lambda x : x, \"quarante-deux\"))\n",
    "print(myArray42)\n",
    "myArray42 = \"quarante-deux\"\n",
    "\n",
    "# Deuxième méthode\n",
    "print(list(myArray42))"
   ]
  },
  {
   "cell_type": "markdown",
   "metadata": {},
   "source": [
    "7. Toujours avec votre variable “myArray42” comptez le nombre d’index dans une autre variable dénommée “myArray42Len”."
   ]
  },
  {
   "cell_type": "code",
   "execution_count": 23,
   "metadata": {},
   "outputs": [
    {
     "name": "stdout",
     "output_type": "stream",
     "text": [
      "13\n"
     ]
    }
   ],
   "source": [
    "myArray42Len = len(myArray42)\n",
    "print(myArray42Len)"
   ]
  },
  {
   "cell_type": "markdown",
   "metadata": {},
   "source": [
    "8. Toujours avec  “myArray42” recomposez le mot dans une variable de type string et concaténez le mot avec la phrase “La grande réponse sur la vie, l’univers et le reste !” (aucune boucle autorisée ni de condition)."
   ]
  },
  {
   "cell_type": "code",
   "execution_count": 24,
   "metadata": {},
   "outputs": [
    {
     "data": {
      "text/plain": [
       "'La grande réponse sur la vie, l’univers et le reste ! quarante-deux'"
      ]
     },
     "execution_count": 24,
     "metadata": {},
     "output_type": "execute_result"
    }
   ],
   "source": [
    "myArray42 = f\"La grande réponse sur la vie, l’univers et le reste ! {''.join(myArray42)}\"\n",
    "myArray42"
   ]
  },
  {
   "cell_type": "markdown",
   "metadata": {},
   "source": [
    "9. Créez une variable “rand” et calculez un nombre aléatoire entre “1” et “42” si le chiffre est égal à “42” retourner “true”"
   ]
  },
  {
   "cell_type": "code",
   "execution_count": 30,
   "metadata": {},
   "outputs": [
    {
     "name": "stdout",
     "output_type": "stream",
     "text": [
      "False\n"
     ]
    }
   ],
   "source": [
    "import random \n",
    "rand = random.randint(1,42)\n",
    "\n",
    "if rand == 42:\n",
    "    print(True)\n",
    "else: \n",
    "    print(False)\n"
   ]
  },
  {
   "cell_type": "markdown",
   "metadata": {},
   "source": [
    "10. Créez autant de variables que de types de variable en python avec “my42Type” et détectez leurs types. Par exemple pour une variable de valeur  “true” je dois retourner “boolean” en string."
   ]
  },
  {
   "cell_type": "code",
   "execution_count": 76,
   "metadata": {},
   "outputs": [
    {
     "name": "stdout",
     "output_type": "stream",
     "text": [
      "int\n",
      "float\n",
      "str\n",
      "bool\n",
      "list\n",
      "tuple\n",
      "set\n",
      "dict\n",
      "NoneType\n"
     ]
    }
   ],
   "source": [
    "my42Type = type\n",
    "a_int = 7\n",
    "print(my42Type(a_int).__name__)\n",
    "\n",
    "b_float = 3.14\n",
    "print(my42Type(b_float).__name__)\n",
    "\n",
    "c_string = \"Hello\"\n",
    "print(my42Type(c_string).__name__)\n",
    "\n",
    "d_bool = True\n",
    "print(my42Type(d_bool).__name__)\n",
    "\n",
    "e_list = [7, 9, 8, 9, \"hey\"]\n",
    "print(my42Type(e_list).__name__)\n",
    "\n",
    "f_tuple = (8, 6, 10, 8)\n",
    "print(my42Type(f_tuple).__name__)\n",
    "\n",
    "g_set = { 5, 9, 8, 7} # pas possible plusieurs fois le même élément\n",
    "print(my42Type(g_set).__name__)\n",
    "\n",
    "h_dict = {\"prenom\": \"Valentin\", \"age\": 27, \"sexe\": \"Oui\"}\n",
    "print(my42Type(h_dict).__name__)\n",
    "\n",
    "i_none = None\n",
    "print(my42Type(i_none).__name__)\n",
    "\n"
   ]
  },
  {
   "cell_type": "markdown",
   "metadata": {},
   "source": [
    "11. Faites une multiplication dans une variable “compute42” dont le résultat est “42” puis transformez-la en string"
   ]
  },
  {
   "cell_type": "code",
   "execution_count": 38,
   "metadata": {},
   "outputs": [
    {
     "name": "stdout",
     "output_type": "stream",
     "text": [
      "42\n",
      "42\n",
      "<class 'str'>\n"
     ]
    }
   ],
   "source": [
    "compute42 = 7 * 6\n",
    "print(compute42)\n",
    "print(str(compute42))\n",
    "print(type(str(compute42)))"
   ]
  },
  {
   "cell_type": "markdown",
   "metadata": {},
   "source": [
    "12. Dans une variable de type string écrivez “42424242”. Puis remplacez tous les 42 par “quarante-deux ”."
   ]
  },
  {
   "cell_type": "code",
   "execution_count": 39,
   "metadata": {},
   "outputs": [
    {
     "name": "stdout",
     "output_type": "stream",
     "text": [
      "quarante-deuxquarante-deuxquarante-deuxquarante-deux\n"
     ]
    }
   ],
   "source": [
    "a = \"42424242\"\n",
    "print(a.replace(\"42\",\"quarante-deux\"))"
   ]
  },
  {
   "cell_type": "markdown",
   "metadata": {},
   "source": [
    "13. Créer 2 variables telles que a = 24 et  b = 42. Vous devez à présent transférer “a” vers “b” et “b” vers “a”."
   ]
  },
  {
   "cell_type": "code",
   "execution_count": 78,
   "metadata": {},
   "outputs": [
    {
     "name": "stdout",
     "output_type": "stream",
     "text": [
      "24\n",
      "42\n"
     ]
    }
   ],
   "source": [
    "a = 24\n",
    "b = 42\n",
    "c = 0\n",
    "\n",
    "print(a)\n",
    "print(b)\n",
    "\n",
    "c = a\n",
    "a = b\n",
    "b = c\n",
    "\n",
    "# Deuxième méthode\n",
    "a,b = b,a"
   ]
  },
  {
   "cell_type": "markdown",
   "metadata": {},
   "source": [
    "### Contrôle de flux"
   ]
  },
  {
   "cell_type": "markdown",
   "metadata": {},
   "source": [
    "*Pour prendre un exemple, imaginons qu’on écrive un programme qui affiche une recette. Normalement, l’algorithme ressemblera à quelque chose comme : « mettez de l’huile d’olive dans la poêle, versez les oignons et le miel, faites cuire à feux doux pendant 10 minutes et servez ». Mais pour rendre la recette plus générale, vous pouvez avoir envie de rajouter des alternatives : « mettez de l’huile d’olive dans la poêle (si vous n’en avez pas, mettez de la margarine), versez les oignons et le miel, faites cuire à feux doux pendant 10 minutes (si les oignons ne sont pas caramélisés, faites cuire 5 minutes de plus) et servez ».\n",
    "Le deuxième algorithme a ceci de supérieur au premier qu’il prévoit, en fonction d’une situation pouvant se présenter de deux façons différentes, deux façons différentes d’agir. Cela suppose que l’interlocuteur (le cuisinier) sache analyser la condition que nous avons fixée à son comportement (« Ai-je de l’huile d’olive ? Est-ce que mes oignons sont caramélisés ?») pour effectuer la série d’actions correspondante.*"
   ]
  },
  {
   "cell_type": "markdown",
   "metadata": {},
   "source": [
    "1. Créer un script capable de faire entrer dans une boîte de nuit une personne ayant plus    de 18 ans et refusant celles qui ont entre 0 et 17 ans. Utilisez “print();” pour afficher votre message. Vous devez faire une concaténation avec la phrase “Vous ne pouvez pas entrer vous n’êtes pas majeur vous avez {age}” ou “Vous pouvez entrer vous êtes majeur vous avez {age}”. Attention si l’âge est compris entre 42 et plus vous devenez le patron de la boite !"
   ]
  },
  {
   "cell_type": "code",
   "execution_count": 137,
   "metadata": {},
   "outputs": [
    {
     "name": "stdout",
     "output_type": "stream",
     "text": [
      "patron de la boite\n"
     ]
    }
   ],
   "source": [
    "age = int(input(\"Enter your age: \"))\n",
    "if age >= 42: \n",
    "    print(f\"patron de la boite\")\n",
    "elif age >= 18:\n",
    "    print(f\"Vous pouvez entrer vous êtes majeur vous avez {age}\")\n",
    "elif age > 0 and age < 18:\n",
    "    print(f\"Vous ne pouvez pas entrer vous n’êtes pas majeur vous avez {age}\")\n",
    "else: \n",
    "    print(\"Age invalide\")"
   ]
  },
  {
   "cell_type": "markdown",
   "metadata": {},
   "source": [
    "2. Créer un algorithme qui retourne : “Cool” quand la valeur est comprise entre 0 et 10. “Tepid” quand la valeur est comprise entre 11 et 20. “Warm” quand la valeur est comprise entre 21 et 30. Cette condition devra utiliser une variable “rand” avec un nombre aléatoire compris entre 0 et 30."
   ]
  },
  {
   "cell_type": "code",
   "execution_count": 158,
   "metadata": {},
   "outputs": [
    {
     "data": {
      "text/plain": [
       "'Cool'"
      ]
     },
     "execution_count": 158,
     "metadata": {},
     "output_type": "execute_result"
    }
   ],
   "source": [
    "import random\n",
    "\n",
    "def match_case(nbr):\n",
    "    if nbr >= 0 and  nbr <= 10:\n",
    "        return \"Cool\"\n",
    "    elif  nbr > 10 and nbr <= 20:\n",
    "        return \"Tepid\"\n",
    "    else:\n",
    "        return \"Warm\"\n",
    "\n",
    "match_case(random.randint(0, 30))\n",
    "            "
   ]
  },
  {
   "cell_type": "markdown",
   "metadata": {},
   "source": [
    "3. Utilisez le “match” pour déterminer le jour de la semaine avec “datetime”. Si nous sommes lundi vous devrez reconnaître que nous sommes lundi et afficher “nous sommes {jour}”. Faites cela pour tous les autres jours de la semaine.\n"
   ]
  },
  {
   "cell_type": "code",
   "execution_count": 162,
   "metadata": {},
   "outputs": [
    {
     "name": "stdout",
     "output_type": "stream",
     "text": [
      "nous sommes mercredi\n"
     ]
    }
   ],
   "source": [
    "from datetime import datetime\n",
    "import locale\n",
    "locale.setlocale(locale.LC_ALL, 'fr_FR.UTF-8')\n",
    "\n",
    "jour = datetime.now()\n",
    "jour = jour.strftime('%A')\n",
    "\n",
    "match jour:\n",
    "    case \"lundi\":\n",
    "        print(f\"nous sommes {jour}\")\n",
    "    case \"mardi\":\n",
    "        print(f\"nous sommes {jour}\")\n",
    "    case \"mercredi\":\n",
    "        print(f\"nous sommes {jour}\")\n",
    "    case \"jeudi\":\n",
    "        print(f\"nous sommes {jour}\")\n",
    "    case \"vendredi\":\n",
    "        print(f\"nous sommes {jour}\")\n",
    "    case \"samedi\":\n",
    "        print(f\"nous sommes {jour}\")\n",
    "    case \"dimanche\":\n",
    "        print(f\"nous sommes {jour}\")"
   ]
  },
  {
   "cell_type": "markdown",
   "metadata": {},
   "source": [
    "4. Afin d’utiliser les conditions imbriquées, créer une histoire avec 3 niveaux minimum avec au minimum 3 fins différentes vous devez faire des “if” imbriqués. Vous devez utiliser la fonction “input()”. Aucune autre fonction n’est autorisée. Bien entendu une des fins doit obligatoirement finir par “La grande réponse sur la vie, l’univers et le reste !”.  Utilisez “print()”. "
   ]
  },
  {
   "cell_type": "code",
   "execution_count": 163,
   "metadata": {},
   "outputs": [
    {
     "name": "stdout",
     "output_type": "stream",
     "text": [
      "La grande réponse sur la vie, l’univers !\n"
     ]
    }
   ],
   "source": [
    "choix = input(\"Choisir : A, B ou C\")\n",
    "match choix :\n",
    "    case  \"A\" :\n",
    "        if \"histoire 1\":\n",
    "            test = input(\"fin 1, fin 2, autre\")\n",
    "            if test == \"fin 1\" :\n",
    "                print(\"La grande réponse sur la vie, l’univers !\")\n",
    "            elif test == \"fin 2\":\n",
    "                print(\"La grande réponse sur la vie\")\n",
    "            else :\n",
    "                print(\"La grande réponse sur la vie, l’univers et le reste !\")\n",
    "                \n",
    "        elif \"histoire 2\":\n",
    "            test = input(\"fin 1, fin 2, autre\")\n",
    "            if test == \"fin 1\" :\n",
    "                print(\"La grande réponse sur la vie, l’univers !\")\n",
    "            elif test == \"fin 2\":\n",
    "                print(\"La grande réponse sur la vie\")\n",
    "            else :\n",
    "                print(\"La grande réponse sur la vie, l’univers et le reste !\")\n",
    "        else : \n",
    "            test = input(\"fin 1, fin 2, autre\")\n",
    "            if test == \"fin 1\" :\n",
    "                print(\"La grande réponse sur la vie, l’univers !\")\n",
    "            elif test == \"fin 2\":\n",
    "                print(\"La grande réponse sur la vie\")\n",
    "            else :\n",
    "                print(\"La grande réponse sur la vie, l’univers et le reste !\")\n",
    "    case  \"B\" :\n",
    "        if \"histoire 1\":\n",
    "            test = input(\"fin 1, fin 2, autre\")\n",
    "            if test == \"fin 1\" :\n",
    "                print(\"La grande réponse sur la vie, l’univers !\")\n",
    "            elif test == \"fin 2\":\n",
    "                print(\"La grande réponse sur la vie\")\n",
    "            else :\n",
    "                print(\"La grande réponse sur la vie, l’univers et le reste !\")\n",
    "                \n",
    "        elif \"histoire 2\":\n",
    "            test = input(\"fin 1, fin 2, autre\")\n",
    "            if test == \"fin 1\" :\n",
    "                print(\"La grande réponse sur la vie, l’univers !\")\n",
    "            elif test == \"fin 2\":\n",
    "                print(\"La grande réponse sur la vie\")\n",
    "            else :\n",
    "                print(\"La grande réponse sur la vie, l’univers et le reste !\")\n",
    "        else : \n",
    "            test = input(\"fin 1, fin 2, autre\")\n",
    "            if test == \"fin 1\" :\n",
    "                print(\"La grande réponse sur la vie, l’univers !\")\n",
    "            elif test == \"fin 2\":\n",
    "                print(\"La grande réponse sur la vie\")\n",
    "            else :\n",
    "                print(\"La grande réponse sur la vie, l’univers et le reste !\")\n",
    "    case  \"C\" :\n",
    "        if \"histoire 1\":\n",
    "            test = input(\"fin 1, fin 2, autre\")\n",
    "            if test == \"fin 1\" :\n",
    "                print(\"La grande réponse sur la vie, l’univers !\")\n",
    "            elif test == \"fin 2\":\n",
    "                print(\"La grande réponse sur la vie\")\n",
    "            else :\n",
    "                print(\"La grande réponse sur la vie, l’univers et le reste !\")\n",
    "                \n",
    "        elif \"histoire 2\":\n",
    "            test = input(\"fin 1, fin 2, autre\")\n",
    "            if test == \"fin 1\" :\n",
    "                print(\"La grande réponse sur la vie, l’univers !\")\n",
    "            elif test == \"fin 2\":\n",
    "                print(\"La grande réponse sur la vie\")\n",
    "            else :\n",
    "                print(\"La grande réponse sur la vie, l’univers et le reste !\")\n",
    "        else : \n",
    "            test = input(\"fin 1, fin 2, autre\")\n",
    "            if test == \"fin 1\" :\n",
    "                print(\"La grande réponse sur la vie, l’univers !\")\n",
    "            elif test == \"fin 2\":\n",
    "                print(\"La grande réponse sur la vie\")\n",
    "            else :\n",
    "                print(\"La grande réponse sur la vie, l’univers et le reste !\")"
   ]
  },
  {
   "cell_type": "markdown",
   "metadata": {},
   "source": [
    "5. Faites une condition ternaire qui teste si une variable existe ou non. Si elle n’existe pas écrivez “cette variable n’existe pas” autrement écrivez “42”."
   ]
  },
  {
   "cell_type": "code",
   "execution_count": 164,
   "metadata": {},
   "outputs": [
    {
     "name": "stdout",
     "output_type": "stream",
     "text": [
      "42\n"
     ]
    }
   ],
   "source": [
    "condition = print('Cette variable n\\'existe') if 'x' in vars() else print(42)"
   ]
  },
  {
   "cell_type": "markdown",
   "metadata": {},
   "source": [
    "6. Calculer le prix d'un article après l'application d'une remise. L'utilisateur est invité à entrer le prix initial de l'article et le pourcentage de remise. Ensuite, le programme calcule le montant de la remise et le prix final après remise. Si le prix final est supérieur à la moitié du prix initial, les résultats sont affichés. \n",
    "Sinon, un message d'erreur est affiché indiquant que la remise est trop élevée."
   ]
  },
  {
   "cell_type": "code",
   "execution_count": 167,
   "metadata": {},
   "outputs": [
    {
     "name": "stdout",
     "output_type": "stream",
     "text": [
      "40.5\n"
     ]
    }
   ],
   "source": [
    "prix = float(input(\"Entrer un prix\"))\n",
    "pourcentage = float(input(\"Pourcentage\"))\n",
    "\n",
    "remise = (prix * pourcentage) / 100\n",
    "prix_avec_remise = prix - remise\n",
    "\n",
    "if prix_avec_remise > prix/2 :\n",
    "    print(prix_avec_remise)\n",
    "else:\n",
    "    print(\"Erreur\")"
   ]
  },
  {
   "cell_type": "markdown",
   "metadata": {},
   "source": [
    "7. Vérifier si un nombre saisi par l'utilisateur est pair ou non. Le programme demande à l'utilisateur d'entrer un nombre, puis il vérifie si le nombre est pair ou impair. Si c'est le cas, le programme affiche que le nombre est pair. Sinon, il affiche que le nombre n'est pas pair.\n",
    "Faites en sorte qu’on ne puisse entrer que des entiers. "
   ]
  },
  {
   "cell_type": "code",
   "execution_count": 166,
   "metadata": {},
   "outputs": [
    {
     "name": "stdout",
     "output_type": "stream",
     "text": [
      "impair\n"
     ]
    }
   ],
   "source": [
    "number = int(input(\"Entrez un prix\"))\n",
    "if type(number) == int :\n",
    "    if number %2 == 0 and type(number) == int :\n",
    "        print(\"pair\")\n",
    "    else:\n",
    "        print(\"impair\")\n",
    "else:\n",
    "    print(\"erreur\")"
   ]
  }
 ],
 "metadata": {
  "kernelspec": {
   "display_name": "Python 3",
   "language": "python",
   "name": "python3"
  },
  "language_info": {
   "codemirror_mode": {
    "name": "ipython",
    "version": 3
   },
   "file_extension": ".py",
   "mimetype": "text/x-python",
   "name": "python",
   "nbconvert_exporter": "python",
   "pygments_lexer": "ipython3",
   "version": "3.10.11"
  }
 },
 "nbformat": 4,
 "nbformat_minor": 2
}
