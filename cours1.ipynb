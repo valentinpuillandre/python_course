{
 "cells": [
  {
   "cell_type": "markdown",
   "metadata": {},
   "source": [
    "## Python"
   ]
  },
  {
   "cell_type": "markdown",
   "metadata": {},
   "source": [
    "*Dans les mathématiques élémentaires, une variable désigne une grandeur dont la valeur est (provisoirement) indéterminée, mais sur laquelle est effectuée une combinaison d'opérations avec soit des constantes, soit d'autres variables. Une variable n'est pas totalement précisée, sa valeur peut même être inconnue, mais elle doit appartenir à un ensemble. Faire des calculs avec les variables comme s'il s'agissait de nombres explicites permet de résoudre, en une seule fois, des problèmes analogues.\n",
    "La variable est habituellement représentée par un symbole, le plus souvent une lettre de l'alphabet latin telle que x ou y. Une fonction numérique y=f(x) implique deux variables, une valeur d'entrée indépendante x et une valeur de sortie y qui est le résultat d'un calcul effectué sur la variable d'entrée. Le terme variable provient du fait que lorsque l'antécédent x de la fonction varie, alors son image y varie aussi.\n",
    "Dans les mathématiques supérieures et en logique, une variable est un symbole utilisé pour marquer un rôle dans un prédicat, une formule ou un algorithme. Il peut s'agir d'une simple valeur, ou d'un objet mathématique tel qu'un vecteur, une matrice ou même une fonction. Dans un polynôme, une fraction rationnelle ou une série formelle, la variable est remplacée par une indéterminée notée X.*"
   ]
  },
  {
   "cell_type": "markdown",
   "metadata": {},
   "source": [
    "1. Réalisez un commentaire monoligne avec “My Python Code Forever”."
   ]
  },
  {
   "cell_type": "code",
   "execution_count": 7,
   "metadata": {},
   "outputs": [],
   "source": [
    "# My Python Code Forever"
   ]
  },
  {
   "cell_type": "markdown",
   "metadata": {},
   "source": [
    "2. Réalisez un commentaire multiligne avec ”My Python Code every day”."
   ]
  },
  {
   "cell_type": "code",
   "execution_count": 11,
   "metadata": {},
   "outputs": [
    {
     "data": {
      "text/plain": [
       "'\\n   My Python Code every day \\n'"
      ]
     },
     "execution_count": 11,
     "metadata": {},
     "output_type": "execute_result"
    }
   ],
   "source": [
    "\"\"\"\n",
    "   My Python Code every day \n",
    "\"\"\"\n"
   ]
  },
  {
   "cell_type": "markdown",
   "metadata": {},
   "source": [
    "3. Déclarez autant de variables que de type disponible possible."
   ]
  },
  {
   "cell_type": "code",
   "execution_count": 12,
   "metadata": {},
   "outputs": [],
   "source": [
    "a_int = 7\n",
    "b_float = 3.14\n",
    "c_string = \"Hello\"\n",
    "d_bool = True\n",
    "e_list = [7, 9, 8, 9, \"hey\"]\n",
    "f_tuple = (8, 6, 10, 8)\n",
    "g_set = { 5, 9, 8, 7} # pas possible plusieurs fois le même élément\n",
    "h_dict = {\"prenom\": \"Valentin\", \"age\": 27, \"sexe\": \"Oui\"}\n",
    "i_none = None\n"
   ]
  },
  {
   "cell_type": "markdown",
   "metadata": {},
   "source": [
    "4. Créer une variable “my42count” avec à l’intérieur le mot “quarante-deux” puis  déterminez le nombre de caractères de la chaine."
   ]
  },
  {
   "cell_type": "code",
   "execution_count": 1,
   "metadata": {},
   "outputs": [
    {
     "name": "stdout",
     "output_type": "stream",
     "text": [
      "13\n"
     ]
    }
   ],
   "source": [
    "my42count = \"quarante-deux\"\n",
    "print(len(my42count))\n"
   ]
  },
  {
   "cell_type": "markdown",
   "metadata": {},
   "source": [
    "5. Créer une variable qui détermine si une autre variable existe ou si elle n’existe pas elle prend la valeur de 42 à la place. (aucune condition acceptée !)."
   ]
  },
  {
   "cell_type": "code",
   "execution_count": 3,
   "metadata": {},
   "outputs": [
    {
     "name": "stdout",
     "output_type": "stream",
     "text": [
      "variable existe\n"
     ]
    }
   ],
   "source": [
    "try:\n",
    "    ma_var\n",
    "    print(\"variable existe\")\n",
    "except NameError:\n",
    "    ma_var = 42\n",
    "    print(\"variable n'héxiste pas\")"
   ]
  },
  {
   "cell_type": "markdown",
   "metadata": {},
   "source": [
    "6. Créer un tableau dans une variable “myArray42” avec pour chaque index une lettre correspondant au mot suivant : “quarante-deux”."
   ]
  },
  {
   "cell_type": "code",
   "execution_count": 22,
   "metadata": {},
   "outputs": [
    {
     "name": "stdout",
     "output_type": "stream",
     "text": [
      "['q', 'u', 'a', 'r', 'a', 'n', 't', 'e', '-', 'd', 'e', 'u', 'x']\n"
     ]
    }
   ],
   "source": [
    "myArray42 = [x for x in \"quarante-deux\"]\n",
    "print(myArray42)"
   ]
  },
  {
   "cell_type": "markdown",
   "metadata": {},
   "source": [
    "7. Toujours avec votre variable “myArray42” comptez le nombre d’index dans une autre variable dénommée “myArray42Len”."
   ]
  },
  {
   "cell_type": "code",
   "execution_count": 23,
   "metadata": {},
   "outputs": [
    {
     "name": "stdout",
     "output_type": "stream",
     "text": [
      "13\n"
     ]
    }
   ],
   "source": [
    "myArray42Len = len(myArray42)\n",
    "print(myArray42Len)"
   ]
  },
  {
   "cell_type": "markdown",
   "metadata": {},
   "source": [
    "8. Toujours avec  “myArray42” recomposez le mot dans une variable de type string et concaténez le mot avec la phrase “La grande réponse sur la vie, l’univers et le reste !” (aucune boucle autorisée ni de condition)."
   ]
  },
  {
   "cell_type": "code",
   "execution_count": 24,
   "metadata": {},
   "outputs": [
    {
     "data": {
      "text/plain": [
       "'La grande réponse sur la vie, l’univers et le reste ! quarante-deux'"
      ]
     },
     "execution_count": 24,
     "metadata": {},
     "output_type": "execute_result"
    }
   ],
   "source": [
    "myArray42 = f\"La grande réponse sur la vie, l’univers et le reste ! {''.join(myArray42)}\"\n",
    "myArray42"
   ]
  },
  {
   "cell_type": "markdown",
   "metadata": {},
   "source": [
    "9. Créez une variable “rand” et calculez un nombre aléatoire entre “1” et “42” si le chiffre est égal à “42” retourner “true”"
   ]
  },
  {
   "cell_type": "code",
   "execution_count": 30,
   "metadata": {},
   "outputs": [
    {
     "name": "stdout",
     "output_type": "stream",
     "text": [
      "False\n"
     ]
    }
   ],
   "source": [
    "import random \n",
    "rand = random.randint(1,42)\n",
    "\n",
    "if rand == 42:\n",
    "    print(True)\n",
    "else: \n",
    "    print(False)\n"
   ]
  },
  {
   "cell_type": "markdown",
   "metadata": {},
   "source": [
    "10. Créez autant de variables que de types de variable en python avec “my42Type” et détectez leurs types. Par exemple pour une variable de valeur  “true” je dois retourner “boolean” en string."
   ]
  },
  {
   "cell_type": "code",
   "execution_count": 34,
   "metadata": {},
   "outputs": [
    {
     "name": "stdout",
     "output_type": "stream",
     "text": [
      "<class 'int'>\n",
      "<class 'float'>\n",
      "<class 'str'>\n",
      "<class 'bool'>\n",
      "<class 'list'>\n",
      "<class 'tuple'>\n",
      "<class 'set'>\n",
      "<class 'dict'>\n",
      "<class 'NoneType'>\n"
     ]
    }
   ],
   "source": [
    "my42Type = type\n",
    "a_int = 7\n",
    "print(my42Type(a_int))\n",
    "\n",
    "b_float = 3.14\n",
    "print(my42Type(b_float))\n",
    "\n",
    "c_string = \"Hello\"\n",
    "print(my42Type(c_string))\n",
    "\n",
    "d_bool = True\n",
    "print(my42Type(d_bool))\n",
    "\n",
    "e_list = [7, 9, 8, 9, \"hey\"]\n",
    "print(my42Type(e_list))\n",
    "\n",
    "f_tuple = (8, 6, 10, 8)\n",
    "print(my42Type(f_tuple))\n",
    "\n",
    "g_set = { 5, 9, 8, 7} # pas possible plusieurs fois le même élément\n",
    "print(my42Type(g_set))\n",
    "\n",
    "h_dict = {\"prenom\": \"Valentin\", \"age\": 27, \"sexe\": \"Oui\"}\n",
    "print(my42Type(h_dict))\n",
    "\n",
    "i_none = None\n",
    "print(my42Type(i_none))\n",
    "\n"
   ]
  },
  {
   "cell_type": "markdown",
   "metadata": {},
   "source": [
    "11. Faites une multiplication dans une variable “compute42” dont le résultat est “42” puis transformez-la en string"
   ]
  },
  {
   "cell_type": "code",
   "execution_count": 38,
   "metadata": {},
   "outputs": [
    {
     "name": "stdout",
     "output_type": "stream",
     "text": [
      "42\n",
      "42\n",
      "<class 'str'>\n"
     ]
    }
   ],
   "source": [
    "compute42 = 7 * 6\n",
    "print(compute42)\n",
    "print(str(compute42))\n",
    "print(type(str(compute42)))"
   ]
  },
  {
   "cell_type": "markdown",
   "metadata": {},
   "source": [
    "12. Dans une variable de type string écrivez “42424242”. Puis remplacez tous les 42 par “quarante-deux ”."
   ]
  },
  {
   "cell_type": "code",
   "execution_count": 39,
   "metadata": {},
   "outputs": [
    {
     "name": "stdout",
     "output_type": "stream",
     "text": [
      "quarante-deuxquarante-deuxquarante-deuxquarante-deux\n"
     ]
    }
   ],
   "source": [
    "a = \"42424242\"\n",
    "print(a.replace(\"42\",\"quarante-deux\"))"
   ]
  },
  {
   "cell_type": "markdown",
   "metadata": {},
   "source": [
    "13. Créer 2 variables telles que a = 24 et  b = 42. Vous devez à présent transférer “a” vers “b” et “b” vers “a”."
   ]
  },
  {
   "cell_type": "code",
   "execution_count": 40,
   "metadata": {},
   "outputs": [
    {
     "name": "stdout",
     "output_type": "stream",
     "text": [
      "24\n",
      "42\n",
      "42\n",
      "24\n"
     ]
    }
   ],
   "source": [
    "a = 24\n",
    "b = 42\n",
    "c = 0\n",
    "\n",
    "print(a)\n",
    "print(b)\n",
    "\n",
    "c = a\n",
    "a = b\n",
    "b = c\n",
    "\n",
    "print(a)\n",
    "print(b)"
   ]
  }
 ],
 "metadata": {
  "kernelspec": {
   "display_name": "Python 3",
   "language": "python",
   "name": "python3"
  },
  "language_info": {
   "codemirror_mode": {
    "name": "ipython",
    "version": 3
   },
   "file_extension": ".py",
   "mimetype": "text/x-python",
   "name": "python",
   "nbconvert_exporter": "python",
   "pygments_lexer": "ipython3",
   "version": "3.10.11"
  }
 },
 "nbformat": 4,
 "nbformat_minor": 2
}
